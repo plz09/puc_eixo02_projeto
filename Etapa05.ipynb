{
 "cells": [
  {
   "cell_type": "code",
   "execution_count": 1,
   "id": "e214c3a5",
   "metadata": {},
   "outputs": [],
   "source": [
    "# Importando bibliotecas\n",
    "\n",
    "import pandas as pd\n",
    "import psycopg2\n",
    "from sqlalchemy import create_engine"
   ]
  },
  {
   "cell_type": "code",
   "execution_count": 2,
   "id": "c1f7676c",
   "metadata": {},
   "outputs": [],
   "source": [
    "# Definindo as configurações de conexão\n",
    "\n",
    "db_name = \"db_hotel\"\n",
    "db_user = \"hotel\"\n",
    "db_password = \"hotel\"\n",
    "db_host = \"localhost\"\n",
    "db_port = \"5439\"\n",
    "    \n",
    "database_url = f\"postgresql+psycopg2://{db_user}:{db_password}@{db_host}:{db_port}/{db_name}\"\n",
    "\n",
    "# Cria o engine do SQLAlchemy\n",
    "engine = create_engine(database_url)\n"
   ]
  },
  {
   "cell_type": "code",
   "execution_count": 3,
   "id": "5049048e",
   "metadata": {},
   "outputs": [],
   "source": [
    "# Definindo tabelas envolvidas e convertendo para DataFrame\n",
    "\n",
    "reservas = pd.read_sql_query(\"SELECT * FROM hotel.reservas\", engine)\n",
    "rede_hoteleira = pd.read_sql_query(\"SELECT * FROM hotel.rede_hoteleira\", engine)\n",
    "endereco = pd.read_sql_query('SELECT * FROM hotel.endereco;', engine)\n",
    "quartos = pd.read_sql_query('SELECT* FROM hotel.quartos', engine)\n",
    "clientes = pd.read_sql_query(\"SELECT * FROM hotel.clientes;\", engine)\n",
    "acompanhantes = pd.read_sql_query(\"SELECT * FROM hotel.acompanhantes;\", engine)"
   ]
  },
  {
   "cell_type": "code",
   "execution_count": 4,
   "id": "8163fa85",
   "metadata": {},
   "outputs": [
    {
     "name": "stdout",
     "output_type": "stream",
     "text": [
      "                 nome  faturamento_previsto_por_diaria\n",
      "0  Grand Plaza Hotels                            450.0\n"
     ]
    }
   ],
   "source": [
    "# 1. Connsultando do faturamento previsto por diário para o Grand Plaza Hotel\n",
    "\n",
    "try:       \n",
    "    # Filtrando por rede_id\n",
    "    rede_hoteleira_filtered_id3 = rede_hoteleira[rede_hoteleira['rede_id'] == 3]\n",
    "\n",
    "    # Fazendo o join das tabelas\n",
    "    merged_df = reservas.merge(rede_hoteleira_filtered_id3, on='rede_id')\n",
    "\n",
    "    # Agrupando por 'nome' e calculando a soma dos preços\n",
    "    result_df_faturamento_grand_plaza = merged_df.groupby('nome').agg(faturamento_previsto_por_diaria=('preco', 'sum')).reset_index()\n",
    "\n",
    "    # Imprimindo o DataFrame resultante\n",
    "    print(result_df_faturamento_grand_plaza)\n",
    "\n",
    "except Exception as e:\n",
    "    print(f\"Erro ao executar a manipulação de dados: {e}\")"
   ]
  },
  {
   "cell_type": "code",
   "execution_count": 5,
   "id": "2688a7a5",
   "metadata": {},
   "outputs": [
    {
     "name": "stdout",
     "output_type": "stream",
     "text": [
      "163.33\n"
     ]
    }
   ],
   "source": [
    "# 2. Consultando o preço médio da diária para todos os quartos individuais de todas as redes cadastradas\n",
    "\n",
    "try:\n",
    "    # Filtrando a tabela reservas para selecionar apenas os quartos do tipo suíte\n",
    "    reservas_filtered = reservas[reservas['suite'] == True]\n",
    "    \n",
    "    # Agregando o dataframe para calcular o preço médio\n",
    "    result_df_preco_medio = reservas_filtered['preco'].mean().round(2)\n",
    "    \n",
    "    # Imprimindo Dataframe resultante\n",
    "    print(result_df_preco_medio)\n",
    "    \n",
    "except Exception as e:\n",
    "    print(f\"Erro ao executar a manipulção de dados: {e}\")\n",
    "\n",
    " "
   ]
  },
  {
   "cell_type": "code",
   "execution_count": 6,
   "id": "91ed8f61",
   "metadata": {},
   "outputs": [
    {
     "name": "stdout",
     "output_type": "stream",
     "text": [
      "   rede_id            nome            cnpj  classificacao\n",
      "1        2  Sunset Resorts  98765432109876              4\n"
     ]
    }
   ],
   "source": [
    "#  3. Consultar rede hoteleira que contenha a palavra Resort no nome.\n",
    "\n",
    "try:\n",
    "    # Filtrando o Dataframe por nome da rede hoteleira\n",
    "    rede_hoteleira_filt_nome_Resort = rede_hoteleira[rede_hoteleira['nome'].str.contains('Resort')]\n",
    "    \n",
    "    # Imprimindo resutlado\n",
    "    print(rede_hoteleira_filt_nome_Resort)\n",
    "    \n",
    "except Exception as e:\n",
    "    print(f\"Erro ao executar a manipulação de dados: {e}\")"
   ]
  },
  {
   "cell_type": "code",
   "execution_count": 18,
   "id": "962b6dbc",
   "metadata": {},
   "outputs": [
    {
     "name": "stdout",
     "output_type": "stream",
     "text": [
      "                 nome     estado  preco\n",
      "0      Hotel Paradise  São Paulo   90.0\n",
      "4  Grand Plaza Hotels  São Paulo   80.0\n",
      "6   Mountain Retreats  São Paulo   80.0\n",
      "7   Mountain Retreats  São Paulo   75.0\n"
     ]
    }
   ],
   "source": [
    "# 4. Consulta de quartos no estado de São Paulo com quartos abaixo de R$100,00\n",
    "\n",
    "try:\n",
    "    # Fazendo joins entre os DataFrames\n",
    "    merged_rede_endereco_quartos = rede_hoteleira.merge(endereco, on='rede_id').merge(quartos, on='rede_id')\n",
    "\n",
    "    # Aplicando filtros\n",
    "    precos_abaixo_100_SP = merged_rede_endereco_quartos[(merged_rede_endereco_quartos['preco'] < 100) & (merged_rede_endereco_quartos['estado'] == 'São Paulo')]\n",
    "\n",
    "    # Selecionando colunas especificadas\n",
    "    precos_abaixo_100_SP = precos_abaixo_100_SP[['nome', 'estado', 'preco']]\n",
    "    \n",
    "    # Imprimindo resultado\n",
    "    print(precos_abaixo_100_SP)\n",
    "    \n",
    "except Exception as e:\n",
    "    print(f\"Erro ao executar consulta: {e}\")"
   ]
  },
  {
   "cell_type": "code",
   "execution_count": 8,
   "id": "85c751aa",
   "metadata": {},
   "outputs": [
    {
     "name": "stdout",
     "output_type": "stream",
     "text": [
      "      nome_cliente            nome_acompanhante\n",
      "0    João da Silva                    Ana Clara\n",
      "1   Maria Oliveira  Sem acompanhante cadastrado\n",
      "2     Pedro Santos                     Anderson\n",
      "3        Ana Silva  Sem acompanhante cadastrado\n",
      "4   Carlos Pereira               Pedro Henrique\n",
      "5    Juliana Souza  Sem acompanhante cadastrado\n",
      "6  Fernanda Santos                   Inês Costa\n",
      "7  Rafael Oliveira                Beatriz Silva\n"
     ]
    }
   ],
   "source": [
    "# 5. Consultar todos os clientes e mostrar os acompanhantes cadastrados de cada cliente\n",
    "\n",
    "try:\n",
    "    # Fazendo join entre os DataFrames\n",
    "    merged_clientes_acompanhantes = clientes.merge(acompanhantes, on='cliente_id', how='left' ,suffixes=('_cliente', '_acompanhante'))\n",
    "    \n",
    "    # Preenchendo os valores nulos na coluna de acompanhantes com \"Sem acompanhante cadastrado\"\n",
    "    merged_clientes_acompanhantes['nome_acompanhante'].fillna('Sem acompanhante cadastrado', inplace=True)\n",
    "    \n",
    "    # Filtrando colunas\n",
    "    merged_clientes_acompanhantes_nomes = merged_clientes_acompanhantes[['nome_cliente', 'nome_acompanhante']]\n",
    "    \n",
    "    # Imprimindo\n",
    "    print(merged_clientes_acompanhantes_nomes)\n",
    "    \n",
    "except Exception as e:\n",
    "    print(f\"Erro ao executar consulta: {e}\")"
   ]
  },
  {
   "cell_type": "code",
   "execution_count": 9,
   "id": "7d5fcea0",
   "metadata": {},
   "outputs": [
    {
     "name": "stdout",
     "output_type": "stream",
     "text": [
      "                nome     estado  preco\n",
      "7  Mountain Retreats  São Paulo   75.0\n"
     ]
    }
   ],
   "source": [
    "# 6. Consultar o hotel mais barato de São Paulo ou Rio de Janeiro com o menor valor de diária.\n",
    "\n",
    "try:\n",
    "    # Aplicando filtros    \n",
    "    menor_preco_sp_ou_rj = merged_rede_endereco_quartos[(merged_rede_endereco_quartos['preco'] == merged_rede_endereco_quartos['preco'].min()) & ((merged_rede_endereco_quartos['estado'] == 'São Paulo') | (merged_rede_endereco_quartos['estado'] == 'Rio de Janeiro'))]\n",
    "    \n",
    "    # Selecionando colunas\n",
    "    menor_preco_sp_ou_rj_nome_estado_preco = menor_preco_sp_ou_rj[['nome', 'estado', 'preco']]\n",
    "    \n",
    "    # Imprimindo Dataframe resultante\n",
    "    print(menor_preco_sp_ou_rj_nome_estado_preco)\n",
    "    \n",
    "except Exception as e:\n",
    "    print(f\"Erro ao executar a consulta: {e}\")"
   ]
  },
  {
   "cell_type": "code",
   "execution_count": 10,
   "id": "f832b1d0",
   "metadata": {},
   "outputs": [
    {
     "name": "stdout",
     "output_type": "stream",
     "text": [
      "                        nome  preco\n",
      "5  Urban Heights Hotel Group  190.0\n",
      "1             Sunset Resorts  120.0\n",
      "0             Hotel Paradise   90.0\n",
      "2         Grand Plaza Hotels   80.0\n",
      "3          Mountain Retreats   80.0\n",
      "4          Mountain Retreats   75.0\n"
     ]
    }
   ],
   "source": [
    "# 7. Consultar as redes hoteleira por valor de diária em ordem decrescente\n",
    "\n",
    "try:\n",
    "    # Fazendo join entre os DataFrames\n",
    "    merged_rede_quarto = rede_hoteleira.merge(quartos, on='rede_id')\n",
    "    \n",
    "    # Aplicante filtros\n",
    "    rede_preco_desc = merged_rede_quarto.sort_values(by='preco', ascending=False)\n",
    "    \n",
    "    # Selecionando Colunas\n",
    "    rede_preco_desc_filt_por_nome_e_preco = rede_preco_desc[['nome', 'preco']]\n",
    "    \n",
    "    # Imprimindo DataFrame resultante\n",
    "    print(rede_preco_desc_filt_por_nome_e_preco)\n",
    "    \n",
    "except Exception as e:\n",
    "    print(f\"Erro ao executar a consulta: {e}\")"
   ]
  },
  {
   "cell_type": "code",
   "execution_count": 11,
   "id": "36e5db19",
   "metadata": {},
   "outputs": [
    {
     "name": "stdout",
     "output_type": "stream",
     "text": [
      "                nome\n",
      "3  Mountain Retreats\n"
     ]
    }
   ],
   "source": [
    "# 8.  Consultar todas as redes hoteleiras que possuem quartos com preço superior a média de preço.\n",
    "\n",
    "try:\n",
    "    # Calcular a média de preço por rede hoteleira\n",
    "    media_preco_por_rede = quartos.groupby('rede_id')['preco'].mean().reset_index()\n",
    "    media_preco_por_rede.rename(columns={'preco': 'media_preco'}, inplace=True)\n",
    "    \n",
    "    # Fazendo o merge para adicionar a média de preço ao DataFrame da rede_hoteleira\n",
    "    rede_hoteleira_com_media = rede_hoteleira.merge(media_preco_por_rede, on='rede_id')\n",
    "    \n",
    "    # Filtrar os hotéis onde existe pelo menos um quarto com preço acima da média\n",
    "    filt_hotel_preco_acima_media = rede_hoteleira_com_media[rede_hoteleira_com_media['rede_id'].isin(\n",
    "        quartos[quartos['preco'] > quartos['rede_id'].map(media_preco_por_rede.set_index('rede_id')['media_preco'])]['rede_id']\n",
    "    )]\n",
    "    \n",
    "    # Selecionar apenas o nome das redes hoteleiras\n",
    "    rede_preco_acima_media = filt_hotel_preco_acima_media[['nome']]\n",
    "    \n",
    "    # Imprimir o resultado\n",
    "    print(rede_preco_acima_media)\n",
    "    \n",
    "except Exception as e:\n",
    "    print(f\"Erro ao executar a query: {e}\")"
   ]
  },
  {
   "cell_type": "code",
   "execution_count": 12,
   "id": "794130bc",
   "metadata": {},
   "outputs": [
    {
     "name": "stdout",
     "output_type": "stream",
     "text": [
      "  numero_quarto  media_preco  ranking_preco\n",
      "0           115        190.0              1\n",
      "1           105        150.0              2\n"
     ]
    }
   ],
   "source": [
    "# 9. Um ranking dos quartos tipo suíte, do mais caro para o mais barato, com base no preço médio.\n",
    "\n",
    "try:\n",
    "    # Filtrando as reservas por suite\n",
    "    reservas_filtradas_suite = reservas[reservas['suite'] == True]\n",
    "    \n",
    "    # Calcular a média de preço por número de quarto\n",
    "    media_preco_por_suite = reservas_filtradas_suite.groupby('numero_quarto')['preco'].mean().sort_values(ascending=False).reset_index()\n",
    "    media_preco_por_suite.rename(columns={'preco': 'media_preco'}, inplace=True)\n",
    "    \n",
    "    # Calcular o ranking de preço por número de quarto\n",
    "    media_preco_por_suite['ranking_preco'] = media_preco_por_suite['media_preco'].rank(method='dense', ascending=False)\n",
    "    \n",
    "    # Ajustando o tipo de dados da coluna ranking_preco para inteiro\n",
    "    media_preco_por_suite['ranking_preco'] = media_preco_por_suite['ranking_preco'].astype(int)\n",
    "    \n",
    "    # Imprimir o resultado\n",
    "    print(media_preco_por_suite)\n",
    "\n",
    "except Exception as e:\n",
    "    print(f\"Erro ao executar a consulta: {e}\")\n"
   ]
  },
  {
   "cell_type": "code",
   "execution_count": null,
   "id": "e161cddd",
   "metadata": {},
   "outputs": [],
   "source": []
  }
 ],
 "metadata": {
  "kernelspec": {
   "display_name": "Python 3 (ipykernel)",
   "language": "python",
   "name": "python3"
  },
  "language_info": {
   "codemirror_mode": {
    "name": "ipython",
    "version": 3
   },
   "file_extension": ".py",
   "mimetype": "text/x-python",
   "name": "python",
   "nbconvert_exporter": "python",
   "pygments_lexer": "ipython3",
   "version": "3.9.13"
  }
 },
 "nbformat": 4,
 "nbformat_minor": 5
}
